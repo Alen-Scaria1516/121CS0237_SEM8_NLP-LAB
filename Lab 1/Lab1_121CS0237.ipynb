{
 "cells": [
  {
   "cell_type": "markdown",
   "id": "cbc6da3e-e208-4a8e-8639-be1b34b6754e",
   "metadata": {},
   "source": [
    "## Lab1 : Tokenization, Regular Expression, Edit distance"
   ]
  },
  {
   "cell_type": "markdown",
   "id": "40e3c2ef-e9a1-43f5-bf0c-054b6897c012",
   "metadata": {},
   "source": [
    "Q1. WAP  to take a text corpus as input and find the following Regex pattern: “any five letter \n",
    "string starting with a and ending with s”. The corpus should have a minimum of 500 words. "
   ]
  },
  {
   "cell_type": "code",
   "execution_count": 21,
   "id": "9acb43ab-b8a1-457f-82b1-4df579ca98dd",
   "metadata": {},
   "outputs": [
    {
     "name": "stdout",
     "output_type": "stream",
     "text": [
      "Five-letter words starting with 'a' and ending with 's':\n",
      " ['alens', 'alins', 'alees']\n"
     ]
    }
   ],
   "source": [
    "import pandas as pd\n",
    "import re\n",
    "\n",
    "file = pd.read_csv('sample.txt', delimiter='\\t', header=None, names=['text'])\n",
    "\n",
    "text = ' '.join(file['text'].tolist())\n",
    "\n",
    "pattern = r'\\ba\\w{3}s\\b'\n",
    "\n",
    "matches = re.findall(pattern, text)\n",
    "\n",
    "print(\"Five-letter words starting with 'a' and ending with 's':\\n\", matches)"
   ]
  },
  {
   "cell_type": "markdown",
   "id": "16f166ec-7662-4ff3-bd18-3d46562f35ea",
   "metadata": {},
   "source": [
    "Q2. WAP  to take a text corpus as input and find the following Regex pattern: “the string you \n",
    "are trying to match contains at least one of a,b,c”. The corpus should have a minimum of 500 \n",
    "words. "
   ]
  },
  {
   "cell_type": "code",
   "execution_count": 3,
   "id": "335b6ec5-dd41-4edc-9e00-205667f65a3f",
   "metadata": {
    "scrolled": true
   },
   "outputs": [
    {
     "name": "stdout",
     "output_type": "stream",
     "text": [
      "The string that contains at least one of a,b,c: \n",
      " ['India', 'officially', 'Republic', 'India', 'a', 'country', 'Asia', 'largest', 'country', 'by', 'area', 'country', 'as', 'and', 'since', 'independence', 'democracy', 'by', 'Indian', 'Ocean', 'Arabian', 'Sea', 'and', 'Bay', 'Bengal', 'southeast', 'shares', 'land', 'borders', 'Pakistan', 'China', 'Nepal', 'and', 'Bhutan', 'and', 'Bangladesh', 'and', 'Myanmar', 'east', 'Indian', 'Ocean', 'India', 'near', 'Lanka', 'and', 'Maldives', 'Andaman', 'and', 'Nicobar', 'Islands', 'share', 'a', 'maritime', 'border', 'Thailand', 'Myanmar', 'and', 'Indonesia', 'humans', 'arrived', 'Indian', 'subcontinent', 'Africa', 'later', 'than', 'years', 'ago', 'occupation', 'predominantly', 'isolation', 'as', 'gatherers', 'has', 'made', 'second', 'Africa', 'human', 'genetic', 'subcontinent', 'margins', 'basin', 'years', 'ago', 'gradually', 'Valley', 'Civilisation', 'an', 'archaic', 'Sanskrit', 'an', 'European', 'language', 'had', 'India', 'recorded', 'dawning', 'India', 'India', 'Dravidian', 'languages', 'supplanted', 'caste', 'had', 'and', 'and', 'Jainism', 'had', 'arisen', 'proclaiming', 'social', 'Early', 'political', 'consolidations', 'gave', 'Maurya', 'and', 'Gupta', 'Widespread', 'creativity', 'era', 'but', 'status', 'declined', 'and', 'untouchability', 'became', 'an', 'organized', 'belief', 'India', 'Dravidian', 'language', 'scripts', 'and', 'cultures', 'Southeast', 'Asia', 'early', 'mediaeval', 'era', 'Christianity', 'Islam', 'Judaism', 'and', 'Zoroastrianism', 'became', 'established', 'India', 'and', 'coasts', 'armies', 'Central', 'Asia', 'overran', 'India', 'plains', 'Sultanate', 'India', 'cosmopolitan', 'mediaeval', 'Islam', 'India', 'Vijayanagara', 'created', 'a', 'lasting', 'composite', 'culture', 'Punjab', 'rejecting', 'institutionalised', 'Mughal', 'centuries', 'relative', 'peace', 'leaving', 'a', 'legacy', 'architecture', 'Gradually', 'expanding', 'East', 'India', 'Company', 'India', 'a', 'colonial', 'economy', 'but', 'consolidated', 'began', 'Indians', 'granted', 'but', 'technological', 'changes', 'introduced', 'and', 'ideas', 'education', 'and', 'public', 'and', 'influential', 'nationalist', 'resistance', 'became', 'major', 'factor', 'Indian', 'was', 'partitioned', 'a', 'majority', 'India', 'and', 'a', 'majority', 'Pakistan', 'large', 'scale', 'and', 'an', 'unprecedented', 'migration', 'accompanied', 'partition', 'alens', 'alins', 'alees', 'axy', 'bxy', 'cxy']\n"
     ]
    }
   ],
   "source": [
    "pattern = r'\\b\\w*[abc]\\w*\\b'\n",
    "\n",
    "matches = re.findall(pattern, text)\n",
    "\n",
    "print(\"The string that contains at least one of a,b,c: \\n\", matches)"
   ]
  },
  {
   "cell_type": "markdown",
   "id": "2a5855c1-c199-4791-a9b7-7558d865090a",
   "metadata": {},
   "source": [
    "Q3. WAP  to take a text corpus as input and find the following Regex pattern: “to check if a \n",
    "string starts with a certain character”. The corpus should have a minimum of 500 words. "
   ]
  },
  {
   "cell_type": "code",
   "execution_count": 9,
   "id": "ad3376bd-9ef4-4de8-8dc7-804533a88be4",
   "metadata": {
    "scrolled": true
   },
   "outputs": [
    {
     "name": "stdout",
     "output_type": "stream",
     "text": [
      "Words starting with 'a': \n",
      " ['a', 'area', 'as', 'and', 'and', 'and', 'and', 'and', 'and', 'and', 'a', 'and', 'arrived', 'ago', 'as', 'ago', 'an', 'archaic', 'an', 'and', 'and', 'arisen', 'and', 'and', 'an', 'and', 'and', 'and', 'armies', 'a', 'a', 'architecture', 'a', 'and', 'and', 'and', 'a', 'and', 'a', 'and', 'an', 'accompanied', 'alens', 'alins', 'alees', 'axy']\n"
     ]
    }
   ],
   "source": [
    "def check_starts_with_char(chr, text):\n",
    "    pattern = rf'\\b{chr}\\w*\\b'\n",
    "\n",
    "    matches = re.findall(pattern, text)\n",
    "    \n",
    "    print(f\"Words starting with '{chr}': \\n\", matches)\n",
    "    \n",
    "    return\n",
    "\n",
    "check_starts_with_char('a', text)"
   ]
  },
  {
   "cell_type": "markdown",
   "id": "660ec1ba-2a9e-4b0e-8d04-e8fee5077ae8",
   "metadata": {},
   "source": [
    "Q4. WAP  to take a text corpus as input and find the following Regex pattern: “to check if a \n",
    "string ends with a certain character”. The corpus should have a minimum of 500 words. "
   ]
  },
  {
   "cell_type": "code",
   "execution_count": 13,
   "id": "64107d9c-53b6-47de-bad6-eac4a9f47c3f",
   "metadata": {},
   "outputs": [
    {
     "name": "stdout",
     "output_type": "stream",
     "text": [
      "Words starting with 'a': \n",
      " ['India', 'India', 'a', 'Asia', 'area', 'Sea', 'China', 'India', 'Lanka', 'a', 'Indonesia', 'Africa', 'Africa', 'India', 'India', 'India', 'Maurya', 'Gupta', 'era', 'India', 'Asia', 'era', 'India', 'Asia', 'India', 'India', 'India', 'Vijayanagara', 'a', 'a', 'India', 'India', 'a', 'a', 'India', 'a']\n"
     ]
    }
   ],
   "source": [
    "def check_ends_with_char(chr, text):\n",
    "    pattern = rf'\\b\\w*{chr}\\b'\n",
    "\n",
    "    matches = re.findall(pattern, text)\n",
    "    \n",
    "    print(f\"Words starting with '{chr}': \\n\", matches)\n",
    "    \n",
    "    return\n",
    "\n",
    "check_ends_with_char('a', text)"
   ]
  },
  {
   "cell_type": "markdown",
   "id": "2c1d08b9-b469-4b07-9e17-e3925f4ff0b3",
   "metadata": {},
   "source": [
    "Q5. WAP  to take a text corpus as input and find the following Regex pattern: “to group sub\n",
    "patterns. For example, (a|b|c)xz match any string that matches either a or b or c followed by \n",
    "xz”. The corpus should have a minimum of 500 words."
   ]
  },
  {
   "cell_type": "code",
   "execution_count": 33,
   "id": "3717dc88-83f5-4168-957b-2db1a16862fe",
   "metadata": {},
   "outputs": [
    {
     "name": "stdout",
     "output_type": "stream",
     "text": [
      "Matches for the pattern '(a|b|c)xz':\n",
      " ['axz', 'bxz', 'cxz']\n"
     ]
    }
   ],
   "source": [
    "pattern = r'\\b(?:a|b|c)xz\\b'\n",
    "\n",
    "matches = re.findall(pattern, text)\n",
    "\n",
    "print(\"Matches for the pattern '(a|b|c)xz':\\n\", matches)"
   ]
  },
  {
   "cell_type": "code",
   "execution_count": 35,
   "id": "f03619f3-fef8-47fa-b620-cfb117649929",
   "metadata": {},
   "outputs": [
    {
     "name": "stdout",
     "output_type": "stream",
     "text": [
      "Requirement already satisfied: nltk in c:\\users\\alens\\anaconda3\\lib\\site-packages (3.9.1)Note: you may need to restart the kernel to use updated packages.\n",
      "\n",
      "Requirement already satisfied: click in c:\\users\\alens\\anaconda3\\lib\\site-packages (from nltk) (8.1.7)\n",
      "Requirement already satisfied: joblib in c:\\users\\alens\\anaconda3\\lib\\site-packages (from nltk) (1.4.2)\n",
      "Requirement already satisfied: regex>=2021.8.3 in c:\\users\\alens\\anaconda3\\lib\\site-packages (from nltk) (2024.9.11)\n",
      "Requirement already satisfied: tqdm in c:\\users\\alens\\anaconda3\\lib\\site-packages (from nltk) (4.66.5)\n",
      "Requirement already satisfied: colorama in c:\\users\\alens\\anaconda3\\lib\\site-packages (from click->nltk) (0.4.6)\n"
     ]
    }
   ],
   "source": [
    "%pip install nltk"
   ]
  },
  {
   "cell_type": "markdown",
   "id": "8017ea6b-6c87-41f7-b829-25e0d5ee00b1",
   "metadata": {},
   "source": [
    "Q6. WAP to remove stopwords from the list of words. The corpus should have a minimum of \n",
    "500 words. "
   ]
  },
  {
   "cell_type": "code",
   "execution_count": 38,
   "id": "a12ff13c-7640-4663-aaa7-32764cc185ef",
   "metadata": {},
   "outputs": [
    {
     "name": "stderr",
     "output_type": "stream",
     "text": [
      "[nltk_data] Downloading package stopwords to\n",
      "[nltk_data]     C:\\Users\\alens\\AppData\\Roaming\\nltk_data...\n"
     ]
    },
    {
     "name": "stdout",
     "output_type": "stream",
     "text": [
      "Filtered words without stopwords: ['india', 'officially', 'republic', 'india', 'j', '20', 'country', 'south', 'asia', 'seventh', 'largest', 'country', 'area', 'populous', 'country', 'june', '2023', '21', '22', 'since', 'independence', '1947', 'world', 'populous', 'democracy', '23', '24', '25', 'bounded', 'indian', 'ocean', 'south', 'arabian', 'sea', 'southwest', 'bay', 'bengal', 'southeast', 'shares', 'land', 'borders', 'pakistan', 'west', 'k', 'china', 'nepal', 'bhutan', 'north', 'bangladesh', 'myanmar', 'east', 'indian', 'ocean', 'india', 'near', 'sri', 'lanka', 'maldives', 'andaman', 'nicobar', 'islands', 'share', 'maritime', 'border', 'thailand', 'myanmar', 'indonesia', 'modern', 'humans', 'arrived', 'indian', 'subcontinent', 'africa', 'later', '55', '000', 'years', 'ago', '27', '28', '29', 'long', 'occupation', 'predominantly', 'isolation', 'hunter', 'gatherers', 'made', 'region', 'highly', 'diverse', 'second', 'africa', 'human', 'genetic', 'diversity', '30', 'settled', 'life', 'emerged', 'subcontinent', 'western', 'margins', 'indus', 'river', 'basin', '9', '000', 'years', 'ago', 'evolving', 'gradually', 'indus', 'valley', 'civilisation', 'third', 'millennium', 'bce', '31', '1200', 'bce', 'archaic', 'form', 'sanskrit', 'indo', 'european', 'language', 'diffused', 'india', 'northwest', '32', '33', 'hymns', 'recorded', 'dawning', 'hinduism', 'india', '34', 'india', 'pre', 'existing', 'dravidian', 'languages', 'supplanted', 'northern', 'regions', '35', '400', 'bce', 'caste', 'emerged', 'within', 'hinduism', '36', 'buddhism', 'jainism', 'arisen', 'proclaiming', 'social', 'orders', 'unlinked', 'heredity', '37', 'early', 'political', 'consolidations', 'gave', 'rise', 'loose', 'knit', 'maurya', 'gupta', 'empires', '38', 'widespread', 'creativity', 'suffused', 'era', '39', 'status', 'women', 'declined', '40', 'untouchability', 'became', 'organized', 'belief', 'l', '41', 'south', 'india', 'middle', 'kingdoms', 'exported', 'dravidian', 'language', 'scripts', 'religious', 'cultures', 'kingdoms', 'southeast', 'asia', '42', 'early', 'mediaeval', 'era', 'christianity', 'islam', 'judaism', 'zoroastrianism', 'became', 'established', 'india', 'southern', 'western', 'coasts', '43', 'muslim', 'armies', 'central', 'asia', 'intermittently', 'overran', 'india', 'northern', 'plains', '44', 'resulting', 'delhi', 'sultanate', 'drew', 'northern', 'india', 'cosmopolitan', 'networks', 'mediaeval', 'islam', '45', 'south', 'india', 'vijayanagara', 'empire', 'created', 'long', 'lasting', 'composite', 'hindu', 'culture', '46', 'punjab', 'sikhism', 'emerged', 'rejecting', 'institutionalised', 'religion', '47', 'mughal', 'empire', '1526', 'ushered', 'two', 'centuries', 'relative', 'peace', '48', 'leaving', 'legacy', 'luminous', 'architecture', '49', 'gradually', 'expanding', 'rule', 'british', 'east', 'india', 'company', 'followed', 'turned', 'india', 'colonial', 'economy', 'consolidated', 'sovereignty', '50', 'british', 'crown', 'rule', 'began', '1858', 'rights', 'promised', 'indians', 'granted', 'slowly', '51', '52', 'technological', 'changes', 'introduced', 'modern', 'ideas', 'education', 'public', 'life', 'took', 'root', '53', 'pioneering', 'influential', 'nationalist', 'movement', 'emerged', 'noted', 'nonviolent', 'resistance', 'became', 'major', 'factor', 'ending', 'british', 'rule', '54', '55', '1947', 'british', 'indian', 'empire', 'partitioned', 'two', 'independent', 'dominions', '56', '57', '58', '59', 'hindu', 'majority', 'dominion', 'india', 'muslim', 'majority', 'dominion', 'pakistan', 'large', 'scale', 'loss', 'life', 'unprecedented', 'migration', 'accompanied', 'partition', '60', 'alens', 'alins', 'alees', 'axz', 'bxz', 'cxz']\n"
     ]
    },
    {
     "name": "stderr",
     "output_type": "stream",
     "text": [
      "[nltk_data]   Unzipping corpora\\stopwords.zip.\n"
     ]
    }
   ],
   "source": [
    "import nltk\n",
    "from nltk.corpus import stopwords\n",
    "import pandas as pd\n",
    "import re\n",
    "\n",
    "nltk.download('stopwords')\n",
    "\n",
    "stop_words = set(stopwords.words('english'))\n",
    "\n",
    "# Tokenize the text into words\n",
    "words = re.findall(r'\\b\\w+\\b', text.lower())  # Lowercase to ensure case insensitivity\n",
    "\n",
    "# Remove stopwords\n",
    "filtered_words = [word for word in words if word not in stop_words]\n",
    "\n",
    "# Print the filtered words\n",
    "print(\"Filtered words without stopwords:\", filtered_words)"
   ]
  },
  {
   "cell_type": "code",
   "execution_count": 42,
   "id": "271cba61-b6b4-40bd-b932-ba5b8852d209",
   "metadata": {
    "scrolled": true
   },
   "outputs": [
    {
     "name": "stderr",
     "output_type": "stream",
     "text": [
      "[nltk_data] Downloading package wordnet to\n",
      "[nltk_data]     C:\\Users\\alens\\AppData\\Roaming\\nltk_data...\n"
     ]
    },
    {
     "name": "stdout",
     "output_type": "stream",
     "text": [
      "{'india': {'synonyms': ['India', 'Republic_of_India', 'Bharat'], 'antonyms': []}, 'officially': {'synonyms': ['officially', 'formally', 'officially'], 'antonyms': ['unofficially']}, 'republic': {'synonyms': ['democracy', 'republic', 'commonwealth', 'republic'], 'antonyms': []}, 'j': {'synonyms': ['joule', 'J', 'watt_second', 'J', 'j'], 'antonyms': []}, '20': {'synonyms': ['twenty', '20', 'XX', 'twenty', '20', 'xx'], 'antonyms': []}, 'country': {'synonyms': ['state', 'nation', 'country', 'land', 'commonwealth', 'res_publica', 'body_politic', 'country', 'state', 'land', 'nation', 'land', 'country', 'country', 'rural_area', 'area', 'country'], 'antonyms': ['urban_area']}, 'south': {'synonyms': ['South', 'Confederacy', 'Confederate_States', 'Confederate_States_of_America', 'South', 'Dixie', 'Dixieland', 'south', 'due_south', 'southward', 'S', 'south', 'south', 'south', 'south', 'to_the_south', 'in_the_south'], 'antonyms': ['north']}, 'asia': {'synonyms': ['Asia', 'Asia'], 'antonyms': []}, 'seventh': {'synonyms': ['seventh', 'one-seventh', 'seventh', 'seventh', 'seventh', '7th'], 'antonyms': []}, 'largest': {'synonyms': ['large', 'big', 'large', 'bombastic', 'declamatory', 'large', 'orotund', 'tumid', 'turgid', 'big', 'large', 'magnanimous', 'big', 'large', 'prominent', 'large', 'big', 'enceinte', 'expectant', 'gravid', 'great', 'large', 'heavy', 'with_child'], 'antonyms': ['small', 'little']}, 'area': {'synonyms': ['area', 'country', 'area', 'area', 'region', 'sphere', 'domain', 'area', 'orbit', 'field', 'arena', 'area', 'area', 'expanse', 'surface_area'], 'antonyms': []}, 'populous': {'synonyms': ['populous', 'thickly_settled'], 'antonyms': []}, 'june': {'synonyms': ['June'], 'antonyms': []}, '2023': {'synonyms': [], 'antonyms': []}, '21': {'synonyms': ['twenty-one', '21', 'XXI', 'twenty-one', '21', 'xxi'], 'antonyms': []}, '22': {'synonyms': ['twenty-two', '22', 'XXII', 'twenty-two', '22', 'xxii'], 'antonyms': []}, 'since': {'synonyms': [], 'antonyms': []}, 'independence': {'synonyms': ['independence', 'independency', 'independence', 'Independence'], 'antonyms': []}, '1947': {'synonyms': [], 'antonyms': []}, 'world': {'synonyms': ['universe', 'existence', 'creation', 'world', 'cosmos', 'macrocosm', 'world', 'domain', 'world', 'reality', 'Earth', 'earth', 'world', 'globe', 'populace', 'public', 'world', 'world', 'worldly_concern', 'earthly_concern', 'world', 'earth', 'world', 'human_race', 'humanity', 'humankind', 'human_beings', 'humans', 'mankind', 'man', 'global', 'planetary', 'world', 'worldwide', 'world-wide'], 'antonyms': []}, 'democracy': {'synonyms': ['democracy', 'democracy', 'republic', 'commonwealth', 'majority_rule', 'democracy'], 'antonyms': []}, '23': {'synonyms': ['twenty-three', '23', 'XXIII', 'twenty-three', '23', 'xxiii'], 'antonyms': []}, '24': {'synonyms': ['twenty-four', '24', 'XXIV', 'two_dozen', 'twenty-four', '24', 'xxiv'], 'antonyms': []}, '25': {'synonyms': ['twenty-five', '25', 'XXV', 'twenty-five', '25', 'xxv'], 'antonyms': []}, 'bounded': {'synonyms': ['jump', 'leap', 'bound', 'spring', 'bound', 'border', 'restrict', 'restrain', 'trammel', 'limit', 'bound', 'confine', 'throttle', 'bounce', 'resile', 'take_a_hop', 'spring', 'bound', 'rebound', 'recoil', 'reverberate', 'ricochet', 'bounded', 'delimited'], 'antonyms': []}, 'indian': {'synonyms': ['Indian', 'American_Indian', 'Red_Indian', 'Indian', 'Amerind', 'Amerindian_language', 'American-Indian_language', 'American_Indian', 'Indian', 'Indian', 'Indian', 'Amerind', 'Amerindic', 'Native_American'], 'antonyms': []}, 'ocean': {'synonyms': ['ocean', 'ocean', 'sea'], 'antonyms': []}, 'arabian': {'synonyms': ['Arab', 'Arabian', 'Arabian', 'Arab', 'Arabian', 'Arabian'], 'antonyms': []}, 'sea': {'synonyms': ['sea', 'ocean', 'sea', 'sea'], 'antonyms': []}, 'southwest': {'synonyms': ['southwest', \"sou'-west\", 'southwestward', 'SW', 'Southwest', 'southwestern_United_States', 'southwest', 'southwest', 'southwesterly', 'southwest', 'southwest', 'southwestern', 'southwesterly', 'southwest', 'south-west', \"sou'west\"], 'antonyms': []}, 'bay': {'synonyms': ['bay', 'embayment', 'bay', 'true_laurel', 'bay', 'bay_laurel', 'bay_tree', 'Laurus_nobilis', 'bay', 'bay', 'alcove', 'bay', 'bay', 'bay', 'bay', 'quest', 'bay'], 'antonyms': []}, 'bengal': {'synonyms': ['Bengal'], 'antonyms': []}, 'southeast': {'synonyms': ['southeast', \"sou'-east\", 'southeastward', 'SE', 'Southeast', 'southeastern_United_States', 'southeast', 'southeast', 'southeasterly', 'southeast', 'southeast', 'southeastern', 'southeasterly', 'southeast', 'south-east', \"sou'-east\"], 'antonyms': []}, 'shares': {'synonyms': ['share', 'portion', 'part', 'percentage', 'share', 'parcel', 'portion', 'share', 'contribution', 'part', 'share', 'plowshare', 'ploughshare', 'share', 'share', 'share', 'partake', 'share', 'partake_in', 'share', 'divvy_up', 'portion_out', 'apportion', 'deal', 'share'], 'antonyms': []}, 'land': {'synonyms': ['land', 'land', 'ground', 'soil', 'domain', 'demesne', 'land', 'land', 'dry_land', 'earth', 'ground', 'solid_ground', 'terra_firma', 'country', 'state', 'land', 'kingdom', 'land', 'realm', 'estate', 'land', 'landed_estate', 'acres', 'demesne', 'nation', 'land', 'country', 'state', 'nation', 'country', 'land', 'commonwealth', 'res_publica', 'body_politic', 'Land', 'Din_Land', 'Edwin_Herbert_Land', 'farming', 'land', 'land', 'set_down', 'land', 'put_down', 'bring_down', 'bring', 'land', 'land', 'land', 'land', 'set_ashore', 'shore', 'down', 'shoot_down', 'land'], 'antonyms': []}, 'borders': {'synonyms': ['boundary_line', 'border', 'borderline', 'delimitation', 'mete', 'margin', 'border', 'perimeter', 'edge', 'border', 'molding', 'moulding', 'border', 'border', 'surround', 'environ', 'ring', 'skirt', 'border', 'bound', 'border', 'frame', 'frame_in', 'border', 'border', 'edge', 'border', 'adjoin', 'edge', 'abut', 'march', 'butt', 'butt_against', 'butt_on'], 'antonyms': []}, 'pakistan': {'synonyms': ['Pakistan', 'Islamic_Republic_of_Pakistan', 'West_Pakistan'], 'antonyms': []}, 'west': {'synonyms': ['West', 'Occident', 'west', 'due_west', 'westward', 'W', 'West', 'western_United_States', 'west', 'West', 'Rebecca_West', 'Dame_Rebecca_West', 'Cicily_Isabel_Fairfield', 'West', 'Mae_West', 'West', 'Benjamin_West', 'west', 'west', 'west'], 'antonyms': ['east']}, 'k': {'synonyms': ['kelvin', 'K', 'potassium', 'K', 'atomic_number_19', 'thousand', 'one_thousand', '1000', 'M', 'K', 'chiliad', 'G', 'grand', 'thou', 'yard', 'kilobyte', 'K', 'KB', 'kB', 'kilobyte', 'kibibyte', 'K', 'KB', 'kB', 'KiB', 'K', 'k', 'K', 'jet', 'super_acid', 'special_K', 'honey_oil', 'green', 'cat_valium', 'super_C', 'thousand', 'one_thousand', '1000', 'm', 'k'], 'antonyms': []}, 'china': {'synonyms': ['China', \"People's_Republic_of_China\", 'mainland_China', 'Communist_China', 'Red_China', 'PRC', 'Cathay', 'china', 'Taiwan', 'China', 'Nationalist_China', 'Republic_of_China', 'chinaware', 'china'], 'antonyms': []}, 'nepal': {'synonyms': ['Nepal', 'Kingdom_of_Nepal'], 'antonyms': []}, 'bhutan': {'synonyms': ['Bhutan', 'Kingdom_of_Bhutan'], 'antonyms': []}, 'north': {'synonyms': ['North', 'Union', 'North', 'north', 'due_north', 'northward', 'N', 'north', 'north', 'north', 'magnetic_north', 'compass_north', 'North', 'Frederick_North', 'Second_Earl_of_Guilford', 'north', 'north', 'northerly', 'northwards', 'northward'], 'antonyms': ['south']}, 'bangladesh': {'synonyms': ['Bangladesh', \"People's_Republic_of_Bangladesh\", 'Bangla_Desh', 'East_Pakistan'], 'antonyms': []}, 'myanmar': {'synonyms': ['Myanmar', 'Union_of_Burma', 'Burma'], 'antonyms': []}, 'east': {'synonyms': ['east', 'due_east', 'eastward', 'E', 'East', 'Orient', 'East', 'eastern_United_States', 'east', 'east', 'east', 'east'], 'antonyms': ['west']}, 'near': {'synonyms': ['approach', 'near', 'come_on', 'go_up', 'draw_near', 'draw_close', 'come_near', 'near', 'close', 'nigh', 'near', 'nigh', 'near', 'cheeseparing', 'close', 'near', 'penny-pinching', 'skinny', 'dear', 'good', 'near', 'approximate', 'near', 'near', 'nigh', 'close', 'about', 'almost', 'most', 'nearly', 'near', 'nigh', 'virtually', 'well-nigh'], 'antonyms': ['far']}, 'sri': {'synonyms': [], 'antonyms': []}, 'lanka': {'synonyms': [], 'antonyms': []}, 'maldives': {'synonyms': ['Maldives', 'Republic_of_Maldives', 'Maldives', 'Maldive_Islands'], 'antonyms': []}, 'andaman': {'synonyms': [], 'antonyms': []}, 'nicobar': {'synonyms': [], 'antonyms': []}, 'islands': {'synonyms': ['island', 'island'], 'antonyms': []}, 'share': {'synonyms': ['share', 'portion', 'part', 'percentage', 'share', 'parcel', 'portion', 'share', 'contribution', 'part', 'share', 'plowshare', 'ploughshare', 'share', 'share', 'share', 'partake', 'share', 'partake_in', 'share', 'divvy_up', 'portion_out', 'apportion', 'deal', 'share'], 'antonyms': []}, 'maritime': {'synonyms': ['nautical', 'maritime', 'marine', 'maritime'], 'antonyms': []}, 'border': {'synonyms': ['boundary_line', 'border', 'borderline', 'delimitation', 'mete', 'margin', 'border', 'perimeter', 'edge', 'border', 'molding', 'moulding', 'border', 'border', 'surround', 'environ', 'ring', 'skirt', 'border', 'bound', 'border', 'frame', 'frame_in', 'border', 'border', 'edge', 'border', 'adjoin', 'edge', 'abut', 'march', 'butt', 'butt_against', 'butt_on'], 'antonyms': []}, 'thailand': {'synonyms': ['Thailand', 'Kingdom_of_Thailand', 'Siam'], 'antonyms': []}, 'indonesia': {'synonyms': ['Indonesia', 'Republic_of_Indonesia', 'Dutch_East_Indies'], 'antonyms': []}, 'modern': {'synonyms': ['modern', 'modern', 'modern_font', 'Bodoni', 'Bodoni_font', 'modern', 'mod', 'modern', 'modernistic', 'modern', 'advanced', 'forward-looking', 'innovative', 'modern', 'Modern', 'New'], 'antonyms': ['old_style', 'nonmodern']}, 'humans': {'synonyms': ['world', 'human_race', 'humanity', 'humankind', 'human_beings', 'humans', 'mankind', 'man', 'homo', 'man', 'human_being', 'human'], 'antonyms': []}, 'arrived': {'synonyms': ['arrive', 'get', 'come', 'arrive', 'make_it', 'get_in', 'go_far'], 'antonyms': ['leave']}, 'subcontinent': {'synonyms': ['subcontinent'], 'antonyms': []}, 'africa': {'synonyms': ['Africa'], 'antonyms': []}, 'later': {'synonyms': ['later', 'ulterior', 'posterior', 'late', 'later', 'late', 'belated', 'late', 'tardy', 'late', 'recent', 'late', 'late', 'late', 'later', 'former', 'late', 'previous', 'subsequently', 'later', 'afterwards', 'afterward', 'after', 'later_on', 'by_and_by', 'later', 'later'], 'antonyms': ['early', 'early', 'early', 'early']}, '55': {'synonyms': ['fifty-five', '55', 'lv'], 'antonyms': []}, '000': {'synonyms': [], 'antonyms': []}, 'years': {'synonyms': ['old_age', 'years', 'age', 'eld', 'geezerhood', 'long_time', 'age', 'years', 'days', 'years', 'year', 'twelvemonth', 'yr', 'year', 'year', 'class', 'year'], 'antonyms': []}, 'ago': {'synonyms': ['ago', 'agone', 'ago'], 'antonyms': []}, '27': {'synonyms': ['twenty-seven', '27', 'XXVII', 'twenty-seven', '27', 'xxvii'], 'antonyms': []}, '28': {'synonyms': ['twenty-eight', '28', 'XXVIII', 'twenty-eight', '28', 'xxviii'], 'antonyms': []}, '29': {'synonyms': ['twenty-nine', '29', 'XXIX', 'twenty-nine', '29', 'xxix'], 'antonyms': []}, 'long': {'synonyms': ['hanker', 'long', 'yearn', 'long', 'long', 'long', 'retentive', 'recollective', 'long', 'tenacious', 'long', 'long', 'long', 'farseeing', 'farsighted', 'foresighted', 'foresightful', 'prospicient', 'long', 'longsighted', 'long', 'long', 'long'], 'antonyms': ['short', 'short', 'unretentive', 'short', 'short']}, 'occupation': {'synonyms': ['occupation', 'business', 'job', 'line_of_work', 'line', 'occupation', 'military_control', 'occupation', 'occupation', 'occupancy', 'moving_in', 'occupation'], 'antonyms': []}, 'predominantly': {'synonyms': ['predominantly', 'preponderantly'], 'antonyms': []}, 'isolation': {'synonyms': ['isolation', 'isolation', 'isolation', 'closing_off', 'isolation', 'isolation'], 'antonyms': []}, 'hunter': {'synonyms': ['hunter', 'huntsman', 'hunter', 'Orion', 'Hunter', 'hunter', 'hunting_watch'], 'antonyms': []}, 'gatherers': {'synonyms': ['gatherer', 'collector', 'gatherer', 'accumulator'], 'antonyms': []}, 'made': {'synonyms': ['make', 'do', 'make', 'get', 'make', 'create', 'induce', 'stimulate', 'cause', 'have', 'get', 'make', 'cause', 'do', 'make', 'produce', 'make', 'create', 'draw', 'make', 'make', 'create', 'make', 'gain', 'take_in', 'clear', 'make', 'earn', 'realize', 'realise', 'pull_in', 'bring_in', 'do', 'make', 'form', 'constitute', 'make', 'reach', 'make', 'get_to', 'progress_to', 'make', 'make', 'make', 'construct', 'build', 'make', 'make', 'make', 'name', 'nominate', 'make', 'have', 'get', 'make', 'reach', 'make', 'attain', 'hit', 'arrive_at', 'gain', 'lay_down', 'establish', 'make', 'make', 'make', 'hold', 'throw', 'have', 'make', 'give', 'make', 'make_up', 'take', 'make', 'stool', 'defecate', 'shit', 'take_a_shit', 'take_a_crap', 'ca-ca', 'crap', 'make', 'make', 'make', 'make', 'make', 'make', 'make', 'make', 'work', 'make', 'make', 'cook', 'fix', 'ready', 'make', 'prepare', 'seduce', 'score', 'make', 'make', 'make', 'pretend', 'make_believe', 'make', 'make', 'make', 'make', 'make', 'make', 'make', 'urinate', 'piddle', 'puddle', 'micturate', 'piss', 'pee', 'pee-pee', 'make_water', 'relieve_oneself', 'take_a_leak', 'spend_a_penny', 'wee', 'wee-wee', 'pass_water', 'made', 'made', 'made'], 'antonyms': ['unmake', 'break', 'unmade']}, 'region': {'synonyms': ['region', 'part', 'area', 'region', 'region', 'region', 'neighborhood', 'region', 'realm'], 'antonyms': []}, 'highly': {'synonyms': ['highly', 'extremely', 'highly', 'highly'], 'antonyms': []}, 'diverse': {'synonyms': ['divers', 'diverse', 'diverse', 'various'], 'antonyms': []}, 'second': {'synonyms': ['second', 'sec', 's', 'moment', 'mo', 'minute', 'second', 'bit', 'second_base', 'second', 'moment', 'minute', 'second', 'instant', 'second', 'second', 'arcsecond', 'second', 'second', 'secondment', 'endorsement', 'indorsement', 'second_gear', 'second', 'irregular', 'second', 'second', 'back', 'endorse', 'indorse', 'second', 'second', '2nd', '2d', 'second', 'second', 'secondly'], 'antonyms': ['first']}, 'human': {'synonyms': ['homo', 'man', 'human_being', 'human', 'human', 'human', 'human'], 'antonyms': ['nonhuman']}, 'genetic': {'synonyms': ['familial', 'genetic', 'hereditary', 'inherited', 'transmitted', 'transmissible', 'genic', 'genetic', 'genetical', 'genetic', 'genetic', 'genetical'], 'antonyms': []}, 'diversity': {'synonyms': ['diverseness', 'diversity', 'multifariousness', 'variety', 'diversity'], 'antonyms': []}, '30': {'synonyms': ['thirty', '30', 'XXX', 'thirty', '30', 'xxx'], 'antonyms': []}, 'settled': {'synonyms': ['settle', 'settle_down', 'decide', 'settle', 'resolve', 'adjudicate', 'settle', 'square_off', 'square_up', 'determine', 'settle', 'locate', 'reconcile', 'patch_up', 'make_up', 'conciliate', 'settle', 'sink', 'settle', 'go_down', 'go_under', 'settle', 'root', 'take_root', 'steady_down', 'settle_down', 'settle', 'settle', 'settle', 'settle', 'settle', 'settle', 'settle', 'settle', 'settle', 'subside', 'settle', 'ensconce', 'settle', 'settle', 'get_back', 'finalize', 'finalise', 'settle', 'nail_down', 'settle', 'fall', 'descend', 'settle', 'settled', 'settled', 'colonized', 'colonised', 'settled', 'settled'], 'antonyms': ['float', 'unsettled', 'unsettled']}, 'life': {'synonyms': ['life', 'life', 'living', 'life', 'animation', 'life', 'living', 'aliveness', 'life', 'lifetime', 'life-time', 'lifespan', 'life', 'life', 'life', 'liveliness', 'life', 'spirit', 'sprightliness', 'life', 'life', 'biography', 'life', 'life_story', 'life_history', 'life', 'life_sentence', 'life'], 'antonyms': []}, 'emerged': {'synonyms': ['emerge', 'issue', 'emerge', 'come_out', 'come_forth', 'go_forth', 'egress', 'emerge', 'emerge', 'come_forth', 'emerge'], 'antonyms': []}, 'western': {'synonyms': ['Western', 'horse_opera', 'western', 'western_sandwich', 'western', 'western', 'western', 'westerly', 'western'], 'antonyms': ['eastern', 'eastern']}, 'margins': {'synonyms': ['margin', 'border', 'perimeter', 'margin', 'margin', 'security_deposit', 'gross_profit', 'gross_profit_margin', 'margin', 'margin', 'allowance', 'leeway', 'margin', 'tolerance'], 'antonyms': []}, 'indus': {'synonyms': ['Indus', 'Indus', 'Indus_River'], 'antonyms': []}, 'river': {'synonyms': ['river'], 'antonyms': []}, 'basin': {'synonyms': ['basin', 'basin', 'basinful', 'basin', 'river_basin', 'basin', 'watershed', 'drainage_basin', 'catchment_area', 'catchment_basin', 'drainage_area', 'washbasin', 'basin', 'washbowl', 'washstand', 'lavatory'], 'antonyms': []}, '9': {'synonyms': ['nine', '9', 'IX', 'niner', 'Nina_from_Carolina', 'ennead', 'nine', '9', 'ix'], 'antonyms': []}, 'evolving': {'synonyms': ['evolve', 'germinate', 'develop', 'evolve', 'develop', 'acquire', 'evolve'], 'antonyms': []}, 'gradually': {'synonyms': ['gradually', 'bit_by_bit', 'step_by_step'], 'antonyms': []}, 'valley': {'synonyms': ['valley', 'vale'], 'antonyms': []}, 'civilisation': {'synonyms': ['civilization', 'civilisation', 'culture', 'civilization', 'civilisation', 'civilization', 'civilisation', 'refinement', 'civilization', 'civilisation'], 'antonyms': []}, 'third': {'synonyms': ['one-third', 'third', 'tierce', 'third_base', 'third', 'third', 'third', 'third_gear', 'third', 'third_base', 'third', 'third', '3rd', 'tertiary', 'third', 'thirdly'], 'antonyms': []}, 'millennium': {'synonyms': ['millennium', 'millenary', 'millennium', 'millennium', 'millenary'], 'antonyms': []}, 'bce': {'synonyms': ['BCE', 'B.C.E.'], 'antonyms': []}, '31': {'synonyms': ['thirty-one', '31', 'xxxi'], 'antonyms': []}, '1200': {'synonyms': [], 'antonyms': []}, 'archaic': {'synonyms': ['antediluvian', 'antiquated', 'archaic', 'archaic', 'primitive'], 'antonyms': []}, 'form': {'synonyms': ['form', 'word_form', 'signifier', 'descriptor', 'kind', 'sort', 'form', 'variety', 'form', 'shape', 'pattern', 'shape', 'form', 'configuration', 'contour', 'conformation', 'human_body', 'physical_body', 'material_body', 'soma', 'build', 'figure', 'physique', 'anatomy', 'shape', 'bod', 'chassis', 'frame', 'form', 'flesh', 'shape', 'form', 'form', 'shape', 'cast', 'form', 'form', 'variant', 'strain', 'var.', 'form', 'form', 'phase', 'form', 'class', 'form', 'grade', 'course', 'form', 'mannequin', 'manikin', 'mannikin', 'manakin', 'form', 'form', 'form', 'organize', 'organise', 'form', 'constitute', 'make', 'form', 'take_form', 'take_shape', 'spring', 'shape', 'form', 'shape', 'form', 'work', 'mold', 'mould', 'forge', 'imprint', 'form', 'form'], 'antonyms': []}, 'sanskrit': {'synonyms': ['Sanskrit', 'Sanskritic_language'], 'antonyms': []}, 'indo': {'synonyms': [], 'antonyms': []}, 'european': {'synonyms': ['European', 'European'], 'antonyms': []}, 'language': {'synonyms': ['language', 'linguistic_communication', 'speech', 'speech_communication', 'spoken_communication', 'spoken_language', 'language', 'voice_communication', 'oral_communication', 'lyric', 'words', 'language', 'linguistic_process', 'language', 'language', 'speech', 'terminology', 'nomenclature', 'language'], 'antonyms': []}, 'diffused': {'synonyms': ['diffuse', 'spread', 'spread_out', 'fan_out', 'permeate', 'pervade', 'penetrate', 'interpenetrate', 'diffuse', 'imbue', 'riddle', 'circulate', 'circularize', 'circularise', 'distribute', 'disseminate', 'propagate', 'broadcast', 'spread', 'diffuse', 'disperse', 'pass_around', 'diffused', 'soft', 'diffuse', 'diffused'], 'antonyms': ['hard']}, 'northwest': {'synonyms': ['Northwest', 'northwestern_United_States', 'northwest', 'northwest', \"nor'-west\", 'northwestward', 'NW', 'northwest', 'northwestern', 'northwesterly', 'northwest', 'northwesterly', 'northwest', 'northwest', 'north-west', \"nor'-west\"], 'antonyms': []}, '32': {'synonyms': ['thirty-two', '32', 'xxxii'], 'antonyms': []}, '33': {'synonyms': ['thirty-three', '33', 'xxxiii'], 'antonyms': []}, 'hymns': {'synonyms': ['hymn', 'anthem', 'hymn', 'hymn'], 'antonyms': []}, 'recorded': {'synonyms': ['record', 'enter', 'put_down', 'record', 'tape', 'read', 'register', 'show', 'record', 'record', 'register', 'commemorate', 'memorialize', 'memorialise', 'immortalize', 'immortalise', 'record', 'recorded', 'recorded'], 'antonyms': ['erase', 'live']}, 'dawning': {'synonyms': ['dawn', 'dawning', 'morning', 'aurora', 'first_light', 'daybreak', 'break_of_day', 'break_of_the_day', 'dayspring', 'sunrise', 'sunup', 'cockcrow', 'click', 'get_through', 'dawn', 'come_home', 'get_across', 'sink_in', 'penetrate', 'fall_into_place', 'dawn', 'dawn'], 'antonyms': ['sunset']}, 'hinduism': {'synonyms': ['Hinduism', 'Hindooism', 'Hinduism', 'Hindooism'], 'antonyms': []}, '34': {'synonyms': ['thirty-four', '34', 'xxxiv'], 'antonyms': []}, 'pre': {'synonyms': [], 'antonyms': []}, 'existing': {'synonyms': ['exist', 'be', 'exist', 'survive', 'live', 'subsist', 'existing', 'existent', 'existing', 'existing'], 'antonyms': ['nonexistent']}, 'dravidian': {'synonyms': ['Dravidian', 'Dravidian', 'Dravidic', 'Dravidian_language'], 'antonyms': []}, 'languages': {'synonyms': ['language', 'linguistic_communication', 'speech', 'speech_communication', 'spoken_communication', 'spoken_language', 'language', 'voice_communication', 'oral_communication', 'lyric', 'words', 'language', 'linguistic_process', 'language', 'language', 'speech', 'terminology', 'nomenclature', 'language'], 'antonyms': []}, 'supplanted': {'synonyms': ['supplant', 'replace', 'supersede', 'supervene_upon', 'supercede'], 'antonyms': []}, 'northern': {'synonyms': ['Northern', 'northern', 'northerly', 'northern', 'northerly', 'northern', 'northern'], 'antonyms': ['southern', 'southern']}, 'regions': {'synonyms': ['region', 'part', 'area', 'region', 'region', 'region', 'neighborhood', 'region', 'realm'], 'antonyms': []}, '35': {'synonyms': ['thirty-five', '35', 'xxxv'], 'antonyms': []}, '400': {'synonyms': ['four_hundred', '400', 'cd'], 'antonyms': []}, 'caste': {'synonyms': ['caste', 'caste', 'caste', 'caste'], 'antonyms': []}, 'within': {'synonyms': ['inside', 'within'], 'antonyms': ['outside']}, '36': {'synonyms': ['thirty-six', '36', 'xxxvi'], 'antonyms': []}, 'buddhism': {'synonyms': ['Buddhism', 'Buddhism'], 'antonyms': []}, 'jainism': {'synonyms': ['Jainism', 'Jainism'], 'antonyms': []}, 'arisen': {'synonyms': ['originate', 'arise', 'rise', 'develop', 'uprise', 'spring_up', 'grow', 'arise', 'come_up', 'bob_up', 'arise', 'rise', 'uprise', 'get_up', 'stand_up', 'arise', 'come_up', 'rise', 'lift', 'arise', 'move_up', 'go_up', 'come_up', 'uprise', 'rebel', 'arise', 'rise', 'rise_up', 'get_up', 'turn_out', 'arise', 'uprise', 'rise'], 'antonyms': ['sit_down', 'fall', 'go_to_bed', 'turn_in']}, 'proclaiming': {'synonyms': ['proclaim', 'proclaim', 'exclaim', 'promulgate', 'predicate', 'proclaim', 'laud', 'extol', 'exalt', 'glorify', 'proclaim'], 'antonyms': []}, 'social': {'synonyms': ['sociable', 'social', 'mixer', 'social', 'societal', 'social', 'social', 'social', 'social', 'social'], 'antonyms': ['unsocial']}, 'orders': {'synonyms': ['order', 'order', 'order_of_magnitude', 'order', 'ordering', 'order', 'ordination', 'orderliness', 'order', 'decree', 'edict', 'fiat', 'order', 'rescript', 'order', 'purchase_order', 'club', 'social_club', 'society', 'guild', 'gild', 'lodge', 'order', 'order', 'rules_of_order', 'parliamentary_law', 'parliamentary_procedure', 'Holy_Order', 'Order', 'order', 'monastic_order', 'order', 'order', 'order', 'order', 'ordering', 'order', 'tell', 'enjoin', 'say', 'order', 'order', 'prescribe', 'dictate', 'regulate', 'regularize', 'regularise', 'order', 'govern', 'order', 'order', 'ordain', 'consecrate', 'ordinate', 'order', 'arrange', 'set_up', 'put', 'order', 'rate', 'rank', 'range', 'order', 'grade', 'place'], 'antonyms': ['disorder', 'disorderliness', 'disorder', 'deregulate', 'disorder']}, 'unlinked': {'synonyms': [], 'antonyms': []}, 'heredity': {'synonyms': ['heredity', 'heredity', 'genetic_endowment'], 'antonyms': []}, '37': {'synonyms': ['thirty-seven', '37', 'xxxvii'], 'antonyms': []}, 'early': {'synonyms': ['early', 'early', 'early', 'former', 'other', 'early', 'early', 'early', 'early_on', 'early', 'early', 'ahead_of_time', 'too_soon', 'early', 'betimes'], 'antonyms': ['middle', 'late', 'middle', 'late']}, 'political': {'synonyms': ['political', 'political', 'political'], 'antonyms': ['nonpolitical']}, 'consolidations': {'synonyms': ['consolidation', 'consolidation', 'integration', 'consolidation'], 'antonyms': []}, 'gave': {'synonyms': ['give', 'yield', 'give', 'afford', 'give', 'give', 'give', 'pay', 'hold', 'throw', 'have', 'make', 'give', 'give', 'throw', 'give', 'gift', 'present', 'give', 'yield', 'give', 'pay', 'devote', 'render', 'yield', 'return', 'give', 'generate', 'impart', 'leave', 'give', 'pass_on', 'establish', 'give', 'give', 'give', 'sacrifice', 'give', 'pass', 'hand', 'reach', 'pass_on', 'turn_over', 'give', 'give', 'dedicate', 'consecrate', 'commit', 'devote', 'give', 'give', 'apply', 'give', 'render', 'grant', 'give', 'move_over', 'give_way', 'give', 'ease_up', 'yield', 'feed', 'give', 'contribute', 'give', 'chip_in', 'kick_in', 'collapse', 'fall_in', 'cave_in', 'give', 'give_way', 'break', 'founder', 'give', 'give', 'give', 'afford', 'open', 'give', 'give', 'give', 'give', 'yield', 'give', 'give', 'give', 'give', 'give', 'give', 'give', 'give', 'give', 'give', 'give'], 'antonyms': ['take', 'starve']}, 'rise': {'synonyms': ['rise', 'rise', 'ascent', 'ascension', 'ascending', 'ascent', 'acclivity', 'rise', 'raise', 'climb', 'upgrade', 'rise', 'rising', 'ascent', 'ascension', 'raise', 'rise', 'wage_hike', 'hike', 'wage_increase', 'salary_increase', 'upgrade', 'rise', 'rising_slope', 'lift', 'rise', 'emanation', 'rise', 'procession', 'rise', 'boost', 'hike', 'cost_increase', 'advance', 'rise', 'rise', 'lift', 'arise', 'move_up', 'go_up', 'come_up', 'uprise', 'rise', 'go_up', 'climb', 'arise', 'rise', 'uprise', 'get_up', 'stand_up', 'rise', 'lift', 'rear', 'surface', 'come_up', 'rise_up', 'rise', 'originate', 'arise', 'rise', 'develop', 'uprise', 'spring_up', 'grow', 'ascend', 'move_up', 'rise', 'wax', 'mount', 'climb', 'rise', 'heighten', 'rise', 'get_up', 'turn_out', 'arise', 'uprise', 'rise', 'rise', 'jump', 'climb_up', 'rise', 'rise', 'rebel', 'arise', 'rise', 'rise_up', 'rise', 'prove', 'rise', 'come_up', 'uprise', 'ascend', 'resurrect', 'rise', 'uprise'], 'antonyms': ['fall', 'descent', 'fall', 'fall', 'sit_down', 'wane', 'go_to_bed', 'turn_in', 'set']}, 'loose': {'synonyms': ['free', 'liberate', 'release', 'unloose', 'unloosen', 'loose', 'unleash', 'let_loose', 'loose', 'loosen', 'loose', 'loosen', 'relax', 'loose', 'loose', 'loose', 'loose', 'informal', 'loose', 'free', 'loose', 'liberal', 'lax', 'loose', 'unaffixed', 'loose', 'loose', 'slack', 'loose', 'open', 'idle', 'loose', 'loose', 'at_large', 'escaped', 'loose', 'on_the_loose', 'easy', 'light', 'loose', 'promiscuous', 'sluttish', 'wanton', 'loose', 'free'], 'antonyms': ['confine', 'stiffen', 'stiffen', 'compact', 'tight', 'affixed']}, 'knit': {'synonyms': ['knit', 'knit', 'knit_stitch', 'plain', 'plain_stitch', 'knit', 'knitting', 'knitwork', 'knit', 'knit', 'entwine', 'pucker', 'rumple', 'cockle', 'crumple', 'knit'], 'antonyms': []}, 'maurya': {'synonyms': [], 'antonyms': []}, 'gupta': {'synonyms': [], 'antonyms': []}, 'empires': {'synonyms': ['empire', 'imperium', 'empire', 'empire', 'conglomerate', 'empire', 'Empire'], 'antonyms': []}, '38': {'synonyms': ['thirty-eight', '38', 'xxxviii'], 'antonyms': []}, 'widespread': {'synonyms': ['widespread', 'far-flung', 'widespread'], 'antonyms': []}, 'creativity': {'synonyms': ['creativity', 'creativeness', 'creative_thinking'], 'antonyms': ['uncreativeness']}, 'suffused': {'synonyms': ['suffuse', 'perfuse', 'suffuse'], 'antonyms': []}, 'era': {'synonyms': ['era', 'epoch', 'era', 'geological_era', 'earned_run_average', 'ERA'], 'antonyms': []}, '39': {'synonyms': ['thirty-nine', '39', 'ixl'], 'antonyms': []}, 'status': {'synonyms': ['status', 'position', 'condition', 'status'], 'antonyms': []}, 'women': {'synonyms': ['woman', 'adult_female', 'woman', 'charwoman', 'char', 'cleaning_woman', 'cleaning_lady', 'woman', 'womanhood', 'woman', 'fair_sex'], 'antonyms': ['man', 'man']}, 'declined': {'synonyms': ['worsen', 'decline', 'refuse', 'reject', 'pass_up', 'turn_down', 'decline', 'refuse', 'decline', 'decline', 'go_down', 'wane', 'decline', 'decline', 'slump', 'correct', 'decline'], 'antonyms': ['better', 'accept', 'accept']}, '40': {'synonyms': ['forty', '40', 'XL', 'forty', '40', 'xl', 'twoscore'], 'antonyms': []}, 'untouchability': {'synonyms': [], 'antonyms': []}, 'became': {'synonyms': ['become', 'go', 'get', 'become', 'turn', 'become', 'become', 'suit'], 'antonyms': []}, 'organized': {'synonyms': ['form', 'organize', 'organise', 'organize', 'organise', 'mastermind', 'engineer', 'direct', 'organize', 'organise', 'orchestrate', 'organize', 'organise', 'coordinate', 'organize', 'organise', 'prepare', 'devise', 'get_up', 'machinate', 'unionize', 'unionise', 'organize', 'organise', 'organized', 'organized', 'organized', 'organised', 'unionized', 'unionised'], 'antonyms': ['disorganize', 'disorganise', 'unorganized', 'disorganized']}, 'belief': {'synonyms': ['belief', 'impression', 'feeling', 'belief', 'notion', 'opinion'], 'antonyms': ['unbelief']}, 'l': {'synonyms': ['liter', 'litre', 'l', 'cubic_decimeter', 'cubic_decimetre', 'fifty', '50', 'L', 'lambert', 'L', 'L', 'l', 'fifty', '50', 'l'], 'antonyms': []}, '41': {'synonyms': ['forty-one', '41', 'xli'], 'antonyms': []}, 'middle': {'synonyms': ['center', 'centre', 'middle', 'heart', 'eye', 'middle', 'middle', 'midriff', 'midsection', 'middle', 'middle', 'in-between', 'mediate', 'middle', 'center', 'halfway', 'middle', 'midway', 'middle', 'middle'], 'antonyms': ['end', 'end', 'late', 'late']}, 'kingdoms': {'synonyms': ['kingdom', 'land', 'realm', 'kingdom', 'kingdom', 'realm', 'kingdom', 'kingdom', 'kingdom'], 'antonyms': []}, 'exported': {'synonyms': ['export', 'export', 'export'], 'antonyms': ['import', 'import']}, 'scripts': {'synonyms': ['script', 'book', 'playscript', 'handwriting', 'hand', 'script', 'script', 'script'], 'antonyms': []}, 'religious': {'synonyms': ['religious', 'religious', 'spiritual', 'religious', 'religious', 'religious'], 'antonyms': ['irreligious', 'secular']}, 'cultures': {'synonyms': ['culture', 'civilization', 'civilisation', 'culture', 'acculturation', 'culture', 'culture', 'polish', 'refinement', 'culture', 'cultivation', 'finish', 'culture', 'culture', 'culture'], 'antonyms': []}, '42': {'synonyms': ['forty-two', '42', 'xlii'], 'antonyms': []}, 'mediaeval': {'synonyms': ['medieval', 'mediaeval', 'medieval', 'mediaeval', 'gothic'], 'antonyms': []}, 'christianity': {'synonyms': ['Christianity', 'Christian_religion', 'Christendom', 'Christianity'], 'antonyms': []}, 'islam': {'synonyms': ['Islam', 'Muslimism', 'Islam', 'Islamism', 'Mohammedanism', 'Muhammadanism', 'Muslimism'], 'antonyms': []}, 'judaism': {'synonyms': ['Judaism', 'Hebraism', 'Jewish_religion', 'Judaism'], 'antonyms': []}, 'zoroastrianism': {'synonyms': ['Zoroastrianism', 'Mazdaism'], 'antonyms': []}, 'established': {'synonyms': ['establish', 'set_up', 'found', 'launch', 'establish', 'found', 'plant', 'constitute', 'institute', 'prove', 'demonstrate', 'establish', 'show', 'shew', 'lay_down', 'establish', 'make', 'establish', 'give', 'install', 'instal', 'set_up', 'establish', 'build', 'establish', 'establish', 'base', 'ground', 'found', 'established', 'constituted', 'accomplished', 'effected', 'established', 'conventional', 'established', 'established', 'established', 'naturalized'], 'antonyms': ['abolish', 'disprove', 'unestablished']}, 'southern': {'synonyms': ['southern', 'southerly', 'southern', 'southern', 'southerly', 'southern'], 'antonyms': ['northern', 'northern']}, 'coasts': {'synonyms': ['seashore', 'coast', 'seacoast', 'sea-coast', 'coast', 'coast', 'slide', 'glide', 'coast', 'coast'], 'antonyms': []}, '43': {'synonyms': ['forty-three', '43', 'xliii'], 'antonyms': []}, 'muslim': {'synonyms': ['Muslim', 'Moslem', 'Muslim', 'Moslem', 'Islamic'], 'antonyms': []}, 'armies': {'synonyms': ['army', 'regular_army', 'ground_forces', 'army', 'United_States_Army', 'US_Army', 'U._S._Army', 'Army', 'USA'], 'antonyms': []}, 'central': {'synonyms': ['central', 'telephone_exchange', 'exchange', 'cardinal', 'central', 'fundamental', 'key', 'primal', 'central'], 'antonyms': ['peripheral']}, 'intermittently': {'synonyms': ['intermittently'], 'antonyms': []}, 'overran': {'synonyms': ['infest', 'overrun', 'invade', 'overrun', 'infest', 'overflow', 'overrun', 'well_over', 'run_over', 'brim_over', 'overrun', 'overrun'], 'antonyms': []}, 'plains': {'synonyms': ['plain', 'field', 'champaign', 'knit', 'knit_stitch', 'plain', 'plain_stitch', 'complain', 'kick', 'plain', 'sound_off', 'quetch', 'kvetch'], 'antonyms': ['cheer']}, '44': {'synonyms': ['forty-four', '44', 'xliv'], 'antonyms': []}, 'resulting': {'synonyms': ['result', 'ensue', 'leave', 'result', 'lead', 'result'], 'antonyms': []}, 'delhi': {'synonyms': ['Delhi', 'Old_Delhi'], 'antonyms': []}, 'sultanate': {'synonyms': ['sultanate'], 'antonyms': []}, 'drew': {'synonyms': ['Drew', 'John_Drew', 'pull', 'draw', 'force', 'reap', 'draw', 'trace', 'draw', 'line', 'describe', 'delineate', 'draw', 'make', 'draw', 'pull', 'pull_out', 'get_out', 'take_out', 'draw', 'draw', 'take_out', 'describe', 'depict', 'draw', 'draw', 'draw', 'puff', 'drag', 'draw', 'draw', 'withdraw', 'draw', 'take_out', 'draw_off', 'draw', 'cast', 'draw', 'get', 'draw', 'draw', 'draw', 'draw', 'draw', 'draw', 'draw', 'draw', 'quarter', 'draw_and_quarter', 'pull', 'draw', 'absorb', 'suck', 'imbibe', 'soak_up', 'sop_up', 'suck_up', 'draw', 'take_in', 'take_up', 'attract', 'pull', 'pull_in', 'draw', 'draw_in', 'string', 'thread', 'draw', 'pull_back', 'draw', 'guide', 'run', 'draw', 'pass', 'tie', 'draw', 'draw', 'draw', 'draw', 'disembowel', 'eviscerate', 'draw', 'draw', 'draw'], 'antonyms': ['push', 'deposit', 'repel']}, 'cosmopolitan': {'synonyms': ['cosmopolitan', 'cosmopolite', 'cosmopolitan', 'widely_distributed', 'cosmopolitan', 'cosmopolitan', 'ecumenical', 'oecumenical', 'general', 'universal', 'worldwide', 'world-wide'], 'antonyms': ['endemic', 'provincial']}, 'networks': {'synonyms': ['network', 'web', 'network', 'net', 'network', 'mesh', 'meshing', 'meshwork', 'network', 'network', 'electronic_network', 'network'], 'antonyms': []}, '45': {'synonyms': ['forty-five', '45', 'xlv'], 'antonyms': []}, 'vijayanagara': {'synonyms': [], 'antonyms': []}, 'empire': {'synonyms': ['empire', 'imperium', 'empire', 'empire', 'conglomerate', 'empire', 'Empire'], 'antonyms': []}, 'created': {'synonyms': ['make', 'create', 'create', 'create', 'create', 'create', 'make', 'produce', 'make', 'create'], 'antonyms': []}, 'lasting': {'synonyms': ['last', 'endure', 'survive', 'last', 'live', 'live_on', 'go', 'endure', 'hold_up', 'hold_out', 'permanent', 'lasting', 'durable', 'lasting', 'long-lasting', 'long-lived', 'persistent', 'lasting', 'lasting'], 'antonyms': ['impermanent', 'caducous']}, 'composite': {'synonyms': ['complex', 'composite', 'composite', 'composite_plant', 'composite', 'composite'], 'antonyms': []}, 'hindu': {'synonyms': ['Hindu', 'Hindoo', 'Hindustani', 'Hindu', 'Hindoo', 'Hindu', 'Hindi', 'Hindoo'], 'antonyms': []}, 'culture': {'synonyms': ['culture', 'civilization', 'civilisation', 'culture', 'acculturation', 'culture', 'culture', 'polish', 'refinement', 'culture', 'cultivation', 'finish', 'culture', 'culture', 'culture'], 'antonyms': []}, '46': {'synonyms': ['forty-six', '46', 'xlvi'], 'antonyms': []}, 'punjab': {'synonyms': ['Punjab'], 'antonyms': []}, 'sikhism': {'synonyms': ['Sikhism'], 'antonyms': []}, 'rejecting': {'synonyms': ['reject', 'refuse', 'reject', 'pass_up', 'turn_down', 'decline', 'disapprove', 'reject', 'reject', 'spurn', 'freeze_off', 'scorn', 'pooh-pooh', 'disdain', 'turn_down', 'resist', 'reject', 'refuse', 'reject', 'turn_down', 'turn_away', 'refuse', 'rule_out', 'eliminate', 'winnow_out', 'reject'], 'antonyms': ['accept', 'accept', 'approve', 'admit']}, 'institutionalised': {'synonyms': ['commit', 'institutionalize', 'institutionalise', 'send', 'charge', 'institutionalized', 'institutionalised', 'institutionalized', 'institutionalised'], 'antonyms': ['noninstitutionalized']}, 'religion': {'synonyms': ['religion', 'faith', 'religious_belief', 'religion', 'faith', 'organized_religion'], 'antonyms': []}, '47': {'synonyms': ['forty-seven', '47', 'xlvii'], 'antonyms': []}, 'mughal': {'synonyms': [], 'antonyms': []}, '1526': {'synonyms': [], 'antonyms': []}, 'ushered': {'synonyms': ['usher', 'show'], 'antonyms': []}, 'two': {'synonyms': ['two', '2', 'II', 'deuce', 'deuce', 'two', 'two', '2', 'ii'], 'antonyms': []}, 'centuries': {'synonyms': ['century', 'hundred', '100', 'C', 'century', 'one_C'], 'antonyms': []}, 'relative': {'synonyms': ['relative', 'relation', 'relative', 'congener', 'congenator', 'congeneric', 'relative', 'comparative', 'proportional', 'relative'], 'antonyms': ['absolute']}, 'peace': {'synonyms': ['peace', 'peace', 'peace', 'peacefulness', 'peace_of_mind', 'repose', 'serenity', 'heartsease', 'ataraxis', 'peace', 'public_security', 'peace', 'peace_treaty', 'pacification'], 'antonyms': ['war']}, '48': {'synonyms': ['forty-eight', '48', 'xlviii'], 'antonyms': []}, 'leaving': {'synonyms': ['departure', 'going', 'going_away', 'leaving', 'leave', 'go_forth', 'go_away', 'leave', 'leave', 'leave', 'leave_alone', 'leave_behind', 'exit', 'go_out', 'get_out', 'leave', 'leave', 'allow_for', 'allow', 'provide', 'leave', 'result', 'lead', 'leave', 'depart', 'pull_up_stakes', 'entrust', 'leave', 'bequeath', 'will', 'leave', 'leave', 'leave', 'leave_behind', 'impart', 'leave', 'give', 'pass_on', 'forget', 'leave'], 'antonyms': ['arrive', 'enter', 'disinherit']}, 'legacy': {'synonyms': ['bequest', 'legacy'], 'antonyms': []}, 'luminous': {'synonyms': ['aglow', 'lambent', 'lucent', 'luminous'], 'antonyms': []}, 'architecture': {'synonyms': ['architecture', 'architecture', 'architecture', 'computer_architecture', 'architecture'], 'antonyms': []}, '49': {'synonyms': ['forty-nine', '49', 'il'], 'antonyms': []}, 'expanding': {'synonyms': ['expand', 'spread_out', 'expand', 'expand', 'boom', 'thrive', 'flourish', 'expand', 'inflate', 'blow_up', 'expand', 'amplify', 'elaborate', 'lucubrate', 'expatiate', 'exposit', 'enlarge', 'flesh_out', 'expand', 'expound', 'dilate', 'extend', 'expand'], 'antonyms': ['contract', 'contract']}, 'rule': {'synonyms': ['rule', 'regulation', 'convention', 'normal', 'pattern', 'rule', 'formula', 'rule', 'prescript', 'rule', 'linguistic_rule', 'principle', 'rule', 'rule', 'dominion', 'rule', 'rule', 'rule', 'principle', 'rule', 'rule', 'formula', 'rule', 'ruler', 'govern', 'rule', 'rule', 'decree', 'predominate', 'dominate', 'rule', 'reign', 'prevail', 'rule', 'find', 'rule', 'rule', 'rule', 'harness', 'rein'], 'antonyms': []}, 'british': {'synonyms': ['British', 'British_people', 'Brits', 'British'], 'antonyms': []}, 'company': {'synonyms': ['company', 'company', 'company', 'companionship', 'fellowship', 'society', 'company', 'troupe', 'caller', 'company', 'company', 'party', 'company', \"ship's_company\", 'company', 'company', 'company', 'companion', 'accompany', 'keep_company'], 'antonyms': []}, 'followed': {'synonyms': ['follow', 'postdate', 'follow', 'follow', 'fall_out', 'follow', 'travel_along', 'comply', 'follow', 'abide_by', 'follow', 'come_after', 'follow', 'conform_to', 'follow', 'adopt', 'follow', 'espouse', 'follow', 'take_after', 'follow', 'trace', 'follow', 'watch', 'observe', 'follow', 'watch_over', 'keep_an_eye_on', 'succeed', 'come_after', 'follow', 'play_along', 'accompany', 'follow', 'keep_up', 'keep_abreast', 'follow', 'come', 'follow', 'follow', 'follow', 'be', 'follow', 'surveil', 'follow', 'survey', 'pursue', 'follow', 'follow', 'stick_to', 'stick_with', 'follow'], 'antonyms': ['precede', 'predate', 'precede']}, 'turned': {'synonyms': ['turn', 'change_state', 'turn', 'become', 'turn', 'turn', 'change_by_reversal', 'turn', 'reverse', 'turn', 'move_around', 'turn', 'grow', 'turn', 'release', 'turn', 'turn', 'turn_over', 'turn', 'plow', 'plough', 'turn', 'turn', 'turn', 'twist', 'sprain', 'wrench', 'turn', 'wrick', 'rick', 'turn', 'turn', 'turn', 'turn', 'turn', 'flex', 'bend', 'deform', 'twist', 'turn', 'turn', 'turn', 'call_on', 'turn', 'sour', 'turn', 'ferment', 'work', 'turn', 'turned', 'off', 'sour', 'turned'], 'antonyms': ['unbend', 'unturned']}, 'colonial': {'synonyms': ['colonial', 'colonial', 'colonial', 'colonial', 'compound'], 'antonyms': []}, 'economy': {'synonyms': ['economy', 'economic_system', 'economy', 'economy', 'thriftiness', 'economy', 'saving'], 'antonyms': []}, 'consolidated': {'synonyms': ['consolidate', 'consolidate', 'consolidate', 'consolidate', 'consolidate', 'amalgamate', 'amalgamated', 'coalesced', 'consolidated', 'fused', 'consolidated'], 'antonyms': []}, 'sovereignty': {'synonyms': ['sovereignty', 'reign', 'sovereignty', 'sovereignty'], 'antonyms': []}, '50': {'synonyms': ['fifty', '50', 'L', 'fifty', '50', 'l'], 'antonyms': []}, 'crown': {'synonyms': ['Crown', 'crown', 'crown', 'crown', 'diadem', 'crown', 'crown', 'crown', 'treetop', 'peak', 'crown', 'crest', 'top', 'tip', 'summit', 'pennant', 'crown', 'pate', 'poll', 'crown', 'crown', 'crownwork', 'jacket', 'jacket_crown', 'cap', 'crown', 'crest', 'crown', 'coronate', 'crown', 'top', 'crown', 'crown'], 'antonyms': []}, 'began': {'synonyms': ['get_down', 'begin', 'get', 'start_out', 'start', 'set_about', 'set_out', 'commence', 'begin', 'start', 'begin', 'lead_off', 'start', 'commence', 'begin', 'begin', 'begin', 'begin', 'start', 'begin', 'start', 'begin', 'begin'], 'antonyms': ['end', 'end', 'end']}, '1858': {'synonyms': [], 'antonyms': []}, 'rights': {'synonyms': ['right', 'right', 'right_field', 'rightfield', 'right', 'right', 'right_wing', 'right', 'right_hand', 'right', 'right', 'rightfulness', 'right', 'right', 'compensate', 'redress', 'correct', 'right', 'right', 'correct', 'rectify', 'right'], 'antonyms': ['left', 'wrong', 'wrongfulness', 'wrong', 'falsify']}, 'promised': {'synonyms': ['promise', 'assure', 'promise', 'predict', 'foretell', 'prognosticate', 'call', 'forebode', 'anticipate', 'promise', 'promise'], 'antonyms': []}, 'indians': {'synonyms': ['Indian', 'American_Indian', 'Red_Indian', 'Indian', 'Amerind', 'Amerindian_language', 'American-Indian_language', 'American_Indian', 'Indian'], 'antonyms': []}, 'granted': {'synonyms': ['allow', 'grant', 'award', 'grant', 'concede', 'yield', 'grant', 'accord', 'allot', 'grant', 'grant', 'give', 'concede', 'yield', 'cede', 'grant', 'grant', 'deed_over', 'given', 'granted'], 'antonyms': ['deny']}, 'slowly': {'synonyms': ['slowly', 'slow', 'easy', 'tardily', 'lento', 'slowly'], 'antonyms': ['quickly']}, '51': {'synonyms': ['fifty-one', '51', 'li'], 'antonyms': []}, '52': {'synonyms': ['fifty-two', '52', 'lii'], 'antonyms': []}, 'technological': {'synonyms': ['technological', 'technical', 'technological'], 'antonyms': []}, 'changes': {'synonyms': ['change', 'alteration', 'modification', 'change', 'change', 'change', 'change', 'change', 'change', 'change', 'change', 'variety', 'change', 'change', 'alter', 'modify', 'change', 'change', 'alter', 'vary', 'switch', 'shift', 'change', 'change', 'change', 'exchange', 'commute', 'convert', 'exchange', 'change', 'interchange', 'transfer', 'change', 'deepen', 'change', 'change'], 'antonyms': ['stay']}, 'introduced': {'synonyms': ['introduce', 'present', 'acquaint', 'introduce', 'innovate', 'insert', 'enclose', 'inclose', 'stick_in', 'put_in', 'introduce', 'bring_in', 'introduce', 'introduce', 'insert', 'infix', 'enter', 'introduce', 'introduce', 'bring_out', 'introduce', 'precede', 'preface', 'premise', 'introduce', 'inaugurate', 'usher_in', 'introduce'], 'antonyms': []}, 'ideas': {'synonyms': ['idea', 'thought', 'mind', 'idea', 'idea', 'estimate', 'estimation', 'approximation', 'idea', 'theme', 'melodic_theme', 'musical_theme', 'idea'], 'antonyms': []}, 'education': {'synonyms': ['education', 'instruction', 'teaching', 'pedagogy', 'didactics', 'educational_activity', 'education', 'education', 'education', 'education', 'training', 'breeding', 'Department_of_Education', 'Education_Department', 'Education'], 'antonyms': []}, 'public': {'synonyms': ['populace', 'public', 'world', 'public', 'public', 'public'], 'antonyms': ['private']}, 'took': {'synonyms': ['take', 'take', 'occupy', 'use_up', 'lead', 'take', 'direct', 'conduct', 'guide', 'take', 'get_hold_of', 'assume', 'acquire', 'adopt', 'take_on', 'take', 'take', 'read', 'bring', 'convey', 'take', 'take', 'take', 'choose', 'take', 'select', 'pick_out', 'accept', 'take', 'have', 'fill', 'take', 'occupy', 'consider', 'take', 'deal', 'look_at', 'necessitate', 'ask', 'postulate', 'need', 'require', 'take', 'involve', 'call_for', 'demand', 'take', 'film', 'shoot', 'take', 'remove', 'take', 'take_away', 'withdraw', 'consume', 'ingest', 'take_in', 'take', 'have', 'take', 'submit', 'take', 'accept', 'take', 'assume', 'take', 'strike', 'take_up', 'accept', 'admit', 'take', 'take_on', 'take', 'learn', 'study', 'read', 'take', 'claim', 'take', 'exact', 'take', 'make', 'aim', 'take', 'train', 'take_aim', 'direct', 'take', 'carry', 'pack', 'take', 'lease', 'rent', 'hire', 'charter', 'engage', 'take', 'subscribe', 'subscribe_to', 'take', 'take', 'take', 'take', 'have', 'claim', 'take', 'accept', 'take', 'contain', 'take', 'hold', 'take', 'drive', 'take', 'take', 'contract', 'take', 'get'], 'antonyms': ['give', 'refuse', 'obviate', 'abstain', 'disclaim']}, 'root': {'synonyms': ['root', 'beginning', 'origin', 'root', 'rootage', 'source', 'root', 'root_word', 'base', 'stem', 'theme', 'radical', 'root', 'solution', 'root', 'ancestor', 'ascendant', 'ascendent', 'antecedent', 'root', 'etymon', 'root', 'root', 'tooth_root', 'root', 'root', 'root', 'rout', 'root', 'rootle', 'settle', 'root', 'take_root', 'steady_down', 'settle_down', 'root'], 'antonyms': ['descendant']}, '53': {'synonyms': ['fifty-three', '53', 'liii'], 'antonyms': []}, 'pioneering': {'synonyms': ['pioneer', 'open_up', 'initiate', 'pioneer', 'pioneer'], 'antonyms': []}, 'influential': {'synonyms': ['influential'], 'antonyms': ['uninfluential']}, 'nationalist': {'synonyms': ['patriot', 'nationalist', 'nationalist', 'nationalist', 'nationalistic'], 'antonyms': []}, 'movement': {'synonyms': ['motion', 'movement', 'move', 'motility', 'motion', 'movement', 'move', 'movement', 'motion', 'movement', 'social_movement', 'front', 'movement', 'campaign', 'cause', 'crusade', 'drive', 'movement', 'effort', 'apparent_motion', 'motion', 'apparent_movement', 'movement', 'bowel_movement', 'movement', 'bm', 'drift', 'trend', 'movement', 'movement', 'movement'], 'antonyms': []}, 'noted': {'synonyms': ['note', 'observe', 'mention', 'remark', 'notice', 'mark', 'note', 'note', 'take_note', 'observe', 'note', 'take_down', 'celebrated', 'famed', 'far-famed', 'famous', 'illustrious', 'notable', 'noted', 'renowned', 'noted'], 'antonyms': ['ignore']}, 'nonviolent': {'synonyms': ['nonviolent', 'nonviolent', 'unbloody'], 'antonyms': ['violent']}, 'resistance': {'synonyms': ['resistance', 'opposition', 'resistance', 'electric_resistance', 'electrical_resistance', 'impedance', 'resistance', 'resistivity', 'ohmic_resistance', 'resistance', 'immunity', 'resistance', 'resistance', 'underground', 'resistance', 'resistance', 'resistance', 'resistor', 'resistance', 'resistance'], 'antonyms': []}, 'major': {'synonyms': ['major', 'Major', 'John_Major', 'John_R._Major', 'John_Roy_Major', 'major', 'major', 'major', 'major', 'major', 'major', 'major', 'major', 'major', 'major', 'major'], 'antonyms': ['minor', 'minor', 'minor', 'minor', 'minor', 'minor', 'minor']}, 'factor': {'synonyms': ['factor', 'component', 'constituent', 'element', 'factor', 'ingredient', 'divisor', 'factor', 'agent', 'factor', 'broker', 'factor', 'factor', 'gene', 'cistron', 'factor', 'factor', 'factor_in', 'factor_out', 'factor', 'factor', 'factor_in', 'factor_out'], 'antonyms': []}, 'ending': {'synonyms': ['ending', 'termination', 'termination', 'ending', 'conclusion', 'end', 'ending', 'ending', 'conclusion', 'finish', 'conclusion', 'end', 'close', 'closing', 'ending', 'end', 'stop', 'finish', 'terminate', 'cease', 'end', 'terminate', 'end', 'terminate', 'end'], 'antonyms': ['beginning', 'beginning', 'begin', 'begin']}, '54': {'synonyms': ['fifty-four', '54', 'liv'], 'antonyms': []}, 'partitioned': {'synonyms': ['partition', 'partition_off', 'partition', 'zone'], 'antonyms': []}, 'independent': {'synonyms': ['mugwump', 'independent', 'fencesitter', 'freelancer', 'freelance', 'free-lance', 'free_lance', 'independent', 'self-employed_person', 'independent', 'autonomous', 'independent', 'self-governing', 'sovereign', 'independent', 'main', 'independent'], 'antonyms': ['dependent', 'dependent']}, 'dominions': {'synonyms': ['dominion', 'rule', 'district', 'territory', 'territorial_dominion', 'dominion', 'Dominion'], 'antonyms': []}, '56': {'synonyms': ['fifty-six', '56', 'lvi'], 'antonyms': []}, '57': {'synonyms': ['fifty-seven', '57', 'lvii'], 'antonyms': []}, '58': {'synonyms': ['fifty-eight', '58', 'lviii'], 'antonyms': []}, '59': {'synonyms': ['fifty-nine', '59', 'ilx'], 'antonyms': []}, 'majority': {'synonyms': ['majority', 'bulk', 'majority', 'absolute_majority', 'majority', 'legal_age'], 'antonyms': ['minority', 'minority']}, 'dominion': {'synonyms': ['dominion', 'rule', 'district', 'territory', 'territorial_dominion', 'dominion', 'Dominion'], 'antonyms': []}, 'large': {'synonyms': ['large', 'large', 'big', 'large', 'bombastic', 'declamatory', 'large', 'orotund', 'tumid', 'turgid', 'big', 'large', 'magnanimous', 'big', 'large', 'prominent', 'large', 'big', 'enceinte', 'expectant', 'gravid', 'great', 'large', 'heavy', 'with_child', 'large', 'large', 'boastfully', 'vauntingly', 'big', 'large'], 'antonyms': ['small', 'little']}, 'scale': {'synonyms': ['scale', 'scale_of_measurement', 'graduated_table', 'ordered_series', 'scale', 'scale', 'scale', 'scale_leaf', 'scale', 'scurf', 'exfoliation', 'scale', 'musical_scale', 'scale', 'weighing_machine', 'scale', 'plate', 'scale', 'shell', 'scale', 'scale', 'scale', 'scale', 'scale', 'surmount', 'scale', 'scale', 'descale', 'scale', 'scale'], 'antonyms': []}, 'loss': {'synonyms': ['loss', 'loss', 'loss', 'loss', 'deprivation', 'loss', 'loss', 'red_ink', 'red', 'personnel_casualty', 'loss', 'passing', 'loss', 'departure', 'exit', 'expiration', 'going', 'release'], 'antonyms': ['gain']}, 'unprecedented': {'synonyms': ['unprecedented'], 'antonyms': ['precedented']}, 'migration': {'synonyms': ['migration', 'migration', 'migration', 'migration'], 'antonyms': []}, 'accompanied': {'synonyms': ['attach_to', 'accompany', 'come_with', 'go_with', 'accompany', 'play_along', 'accompany', 'follow', 'company', 'companion', 'accompany', 'keep_company', 'accompanied', 'accompanied', 'attended'], 'antonyms': ['unaccompanied', 'unaccompanied']}, 'partition': {'synonyms': ['partition', 'divider', 'partition', 'partition', 'division', 'partition', 'partitioning', 'segmentation', 'sectionalization', 'sectionalisation', 'partition', 'partition_off', 'partition', 'zone'], 'antonyms': []}, '60': {'synonyms': ['sixty', '60', 'LX', 'sixty', '60', 'lx', 'threescore'], 'antonyms': []}, 'alens': {'synonyms': [], 'antonyms': []}, 'alins': {'synonyms': [], 'antonyms': []}, 'alees': {'synonyms': [], 'antonyms': []}, 'axz': {'synonyms': [], 'antonyms': []}, 'bxz': {'synonyms': [], 'antonyms': []}, 'cxz': {'synonyms': [], 'antonyms': []}}\n"
     ]
    }
   ],
   "source": [
    "nltk.download('wordnet')\n",
    "from nltk.corpus import wordnet\n",
    "\n",
    "synonyms_antonyms_dict = {}\n",
    "\n",
    "for word in filtered_words:\n",
    "    synonyms = []\n",
    "    antonyms = []    \n",
    "    for syn in wordnet.synsets(word):\n",
    "        for l in syn.lemmas():\n",
    "            synonyms.append(l.name())\n",
    "            if l.antonyms():\n",
    "                antonyms.append(l.antonyms()[0].name())\n",
    "    synonyms_antonyms_dict[word] = {'synonyms': synonyms, 'antonyms':antonyms}\n",
    "\n",
    "print(synonyms_antonyms_dict)"
   ]
  },
  {
   "cell_type": "markdown",
   "id": "3837fb83-ed05-4b4d-9e2b-ac7f71094f70",
   "metadata": {},
   "source": [
    "Q8. WAP to count the minimum number of operations required to convert one string into \n",
    "another. The two strings should be a user input on the prompt."
   ]
  },
  {
   "cell_type": "code",
   "execution_count": 45,
   "id": "6b84b963-57ed-4b2c-962f-17966dc9cb26",
   "metadata": {},
   "outputs": [
    {
     "name": "stdin",
     "output_type": "stream",
     "text": [
      "Enter the first string:  Alen\n",
      "Enter the second string:  Scaria\n"
     ]
    },
    {
     "name": "stdout",
     "output_type": "stream",
     "text": [
      "The minimum number of operations required to convert 'Alen' to 'Scaria' is: 6\n"
     ]
    }
   ],
   "source": [
    "class Solution:\n",
    "    def minDistance(self, word1: str, word2: str) -> int:\n",
    "        ans = self.helper(0, 0, word1, word2)\n",
    "        return ans\n",
    "    \n",
    "    def helper(self, i: int, j: int, word1: str, word2: str) -> int:\n",
    "        # Base cases\n",
    "        if i >= len(word1):\n",
    "            return len(word2) - j\n",
    "        if j >= len(word2):\n",
    "            return len(word1) - i\n",
    "            \n",
    "        ans = 0\n",
    "        # If characters match\n",
    "        if word1[i] == word2[j]:\n",
    "            ans = self.helper(i + 1, j + 1, word1, word2)\n",
    "        else:\n",
    "            # Try all three operations\n",
    "            delete = 1 + self.helper(i + 1, j, word1, word2)\n",
    "            insert = 1 + self.helper(i, j + 1, word1, word2)\n",
    "            replace = 1 + self.helper(i + 1, j + 1, word1, word2)\n",
    "            ans = min(delete, insert, replace)\n",
    "            \n",
    "        return ans\n",
    "\n",
    "# Get input from user\n",
    "word1 = input(\"Enter the first string: \")\n",
    "word2 = input(\"Enter the second string: \")\n",
    "\n",
    "# Create solution instance and get result\n",
    "solution = Solution()\n",
    "min_operations = solution.minDistance(word1, word2)\n",
    "print(f\"The minimum number of operations required to convert '{word1}' to '{word2}' is: {min_operations}\")"
   ]
  },
  {
   "cell_type": "markdown",
   "id": "6af16c2f-e8d3-411f-932c-e9311efe542c",
   "metadata": {},
   "source": [
    "Q9. WAP to count the minimum number of operations required to convert one string into \n",
    "another using Dynamic Programming. The two strings should be a user input on the prompt. "
   ]
  },
  {
   "cell_type": "code",
   "execution_count": 48,
   "id": "75064611-782e-408b-a0d6-de916f402aee",
   "metadata": {},
   "outputs": [
    {
     "name": "stdin",
     "output_type": "stream",
     "text": [
      "Enter the first string:  Alen\n",
      "Enter the second string:  alen\n"
     ]
    },
    {
     "name": "stdout",
     "output_type": "stream",
     "text": [
      "The minimum number of operations required to convert 'Alen' to 'alen' is: 1\n"
     ]
    }
   ],
   "source": [
    "class Solution:\n",
    "    def minDistance(self, word1: str, word2: str) -> int:\n",
    "        m, n = len(word1), len(word2)\n",
    "        \n",
    "        # Create a DP table of size (m+1) x (n+1)\n",
    "        dp = [[0 for _ in range(n + 1)] for _ in range(m + 1)]\n",
    "        \n",
    "        # Initialize first row and column\n",
    "        for i in range(m + 1):\n",
    "            dp[i][0] = i  # Min operations to convert word1[0...i] to empty string\n",
    "        for j in range(n + 1):\n",
    "            dp[0][j] = j  # Min operations to convert empty string to word2[0...j]\n",
    "        \n",
    "        # Fill the DP table\n",
    "        for i in range(1, m + 1):\n",
    "            for j in range(1, n + 1):\n",
    "                # If characters match, no operation needed\n",
    "                if word1[i-1] == word2[j-1]:\n",
    "                    dp[i][j] = dp[i-1][j-1]\n",
    "                else:\n",
    "                    # Take minimum of three operations\n",
    "                    delete = dp[i-1][j]      # deletion\n",
    "                    insert = dp[i][j-1]      # insertion\n",
    "                    replace = dp[i-1][j-1]   # replacement\n",
    "                    dp[i][j] = 1 + min(delete, insert, replace)\n",
    "        \n",
    "        return dp[m][n]\n",
    "\n",
    "# Get input from user\n",
    "word1 = input(\"Enter the first string: \")\n",
    "word2 = input(\"Enter the second string: \")\n",
    "\n",
    "# Create solution instance and get result\n",
    "solution = Solution()\n",
    "min_operations = solution.minDistance(word1, word2)\n",
    "print(f\"The minimum number of operations required to convert '{word1}' to '{word2}' is: {min_operations}\")"
   ]
  },
  {
   "cell_type": "code",
   "execution_count": null,
   "id": "0cbbce52-1fa7-4724-9bf2-4eaf72c10887",
   "metadata": {},
   "outputs": [],
   "source": []
  }
 ],
 "metadata": {
  "kernelspec": {
   "display_name": "Python 3 (ipykernel)",
   "language": "python",
   "name": "python3"
  },
  "language_info": {
   "codemirror_mode": {
    "name": "ipython",
    "version": 3
   },
   "file_extension": ".py",
   "mimetype": "text/x-python",
   "name": "python",
   "nbconvert_exporter": "python",
   "pygments_lexer": "ipython3",
   "version": "3.12.7"
  }
 },
 "nbformat": 4,
 "nbformat_minor": 5
}
